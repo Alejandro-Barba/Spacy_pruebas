{
 "cells": [
  {
   "cell_type": "markdown",
   "metadata": {},
   "source": [
    "## Instalación de librerías\n",
    "### MAC\n",
    "```\n",
    "pip install -U pip setuptools wheel\n",
    "pip install -U 'spacy[apple]'\n",
    "python -m spacy download es_dep_news_trf\n",
    "```\n",
    "### WINDOWS\n",
    "```\n",
    "pip install -U pip setuptools wheel\n",
    "pip install -U spacy\n",
    "python -m spacy download es_dep_news_trf\n",
    "```\n",
    "\n",
    "[https://spacy.io/usage](https://spacy.io/usage)."
   ]
  },
  {
   "cell_type": "code",
   "execution_count": 58,
   "metadata": {},
   "outputs": [],
   "source": [
    "# Import spaCy\n",
    "import spacy\n",
    "import pathlib\n",
    "from collections import Counter\n",
    "from spacy import displacy\n",
    "from spacy.matcher import Matcher\n",
    "\n",
    "# Create a blank English nlp object\n",
    "nlp = spacy.blank(\"en\")"
   ]
  },
  {
   "cell_type": "code",
   "execution_count": 59,
   "metadata": {},
   "outputs": [
    {
     "name": "stdout",
     "output_type": "stream",
     "text": [
      "Hello\n",
      "world\n",
      "!\n"
     ]
    }
   ],
   "source": [
    "# Created by processing a string of text with the nlp object\n",
    "doc = nlp(\"Hello world!\")\n",
    "\n",
    "# Iterate over tokens in a Doc\n",
    "for token in doc:\n",
    "    print(token.text)"
   ]
  },
  {
   "cell_type": "code",
   "execution_count": 60,
   "metadata": {},
   "outputs": [
    {
     "name": "stdout",
     "output_type": "stream",
     "text": [
      "world\n"
     ]
    }
   ],
   "source": [
    "# Index into the Doc to get a single Token\n",
    "token = doc[1]\n",
    "\n",
    "# Get the token text via the .text attribute\n",
    "print(token.text)"
   ]
  },
  {
   "cell_type": "code",
   "execution_count": 61,
   "metadata": {},
   "outputs": [
    {
     "name": "stdout",
     "output_type": "stream",
     "text": [
      "world!\n"
     ]
    }
   ],
   "source": [
    "# A slice from the Doc is a Span object\n",
    "span = doc[1:3]\n",
    "\n",
    "# Get the span text via the .text attribute\n",
    "print(span.text)"
   ]
  },
  {
   "cell_type": "markdown",
   "metadata": {},
   "source": [
    "## Lexical attributes"
   ]
  },
  {
   "cell_type": "code",
   "execution_count": 62,
   "metadata": {},
   "outputs": [
    {
     "name": "stdout",
     "output_type": "stream",
     "text": [
      "Index:    [0, 1, 2, 3, 4]\n",
      "Text:     ['It', 'costs', '$', '5', '.']\n",
      "is_alpha: [True, True, False, False, False]\n",
      "is_punct: [False, False, False, False, True]\n",
      "like_num: [False, False, False, True, False]\n"
     ]
    }
   ],
   "source": [
    "doc = nlp(\"It costs $5.\")\n",
    "print(\"Index:   \", [token.i for token in doc])\n",
    "print(\"Text:    \", [token.text for token in doc])\n",
    "\n",
    "print(\"is_alpha:\", [token.is_alpha for token in doc])\n",
    "print(\"is_punct:\", [token.is_punct for token in doc])\n",
    "print(\"like_num:\", [token.like_num for token in doc])"
   ]
  },
  {
   "cell_type": "code",
   "execution_count": null,
   "metadata": {},
   "outputs": [],
   "source": []
  },
  {
   "cell_type": "code",
   "execution_count": 63,
   "metadata": {},
   "outputs": [],
   "source": [
    "nlp = spacy.load(\"es_core_news_sm\")"
   ]
  },
  {
   "cell_type": "code",
   "execution_count": 64,
   "metadata": {},
   "outputs": [
    {
     "name": "stdout",
     "output_type": "stream",
     "text": [
      "<class 'spacy.tokens.doc.Doc'>\n"
     ]
    },
    {
     "data": {
      "text/plain": [
       "['Este',\n",
       " 'ejemplo',\n",
       " 'es',\n",
       " 'sobre',\n",
       " 'procesado',\n",
       " 'de',\n",
       " 'lenguaje',\n",
       " 'natural',\n",
       " 'con',\n",
       " 'spaCy',\n",
       " '.']"
      ]
     },
     "execution_count": 64,
     "metadata": {},
     "output_type": "execute_result"
    }
   ],
   "source": [
    "doc = nlp(\n",
    "\"Este ejemplo es sobre procesado de lenguaje natural con spaCy.\"\n",
    ")\n",
    "print(type(doc))\n",
    "[token.text for token in doc]\n"
   ]
  },
  {
   "cell_type": "code",
   "execution_count": 65,
   "metadata": {},
   "outputs": [
    {
     "name": "stdout",
     "output_type": "stream",
     "text": [
      "['Este', 'ejemplo', 'es', 'sobre', 'procesado', 'de', 'lenguaje', 'natural', 'con', 'spaCy', '.']\n"
     ]
    }
   ],
   "source": [
    "file_name = \"./docs/doc1.txt\"\n",
    "doc = nlp(pathlib.Path(file_name).read_text(encoding=\"utf-8\"))\n",
    "print([token.text for token in doc])\n"
   ]
  },
  {
   "cell_type": "markdown",
   "metadata": {},
   "source": [
    "## Detección de frases"
   ]
  },
  {
   "cell_type": "code",
   "execution_count": 66,
   "metadata": {},
   "outputs": [
    {
     "name": "stdout",
     "output_type": "stream",
     "text": [
      "Gustavo es un estudiante de Ciencia de datos que trabaja...\n",
      "Él está muy interesado en aprender procesado de lenguaje natural...\n",
      "Gustavo estudia mucho...\n"
     ]
    }
   ],
   "source": [
    "about_text = (\n",
    "    \"Gustavo es un estudiante de Ciencia de datos\"\n",
    "    \" que trabaja en una empresa\"\n",
    "    \" internacional. Él está muy interesado\"\n",
    "    \" en aprender procesado de lenguaje natural.\"\n",
    "    \" Gustavo estudia mucho\"\n",
    ")\n",
    "about_doc = nlp(about_text)\n",
    "\n",
    "# Add the 'sentencizer' component to the pipeline\n",
    "nlp.add_pipe('sentencizer')\n",
    "sentences = list(about_doc.sents)\n",
    "len(sentences)\n",
    "for sentence in sentences:\n",
    "    print(f\"{sentence[:10]}...\")"
   ]
  },
  {
   "cell_type": "markdown",
   "metadata": {},
   "source": [
    "## Tokens"
   ]
  },
  {
   "cell_type": "code",
   "execution_count": 67,
   "metadata": {},
   "outputs": [
    {
     "name": "stdout",
     "output_type": "stream",
     "text": [
      "Gustavo 0\n",
      "es 8\n",
      "un 11\n",
      "estudiante 14\n",
      "de 25\n",
      "Ciencia 28\n",
      "de 36\n",
      "datos 39\n",
      "que 45\n",
      "trabaja 49\n",
      "en 57\n",
      "una 60\n",
      "empresa 64\n",
      "internacional 72\n",
      ". 85\n",
      "Él 87\n",
      "está 90\n",
      "muy 95\n",
      "interesado 99\n",
      "en 110\n",
      "aprender 113\n",
      "procesado 122\n",
      "de 132\n",
      "lenguaje 135\n",
      "natural 144\n",
      ". 151\n",
      "Gustavo 153\n",
      "estudia 161\n",
      "mucho 169\n"
     ]
    }
   ],
   "source": [
    "for token in about_doc:\n",
    "    print (token, token.idx)"
   ]
  },
  {
   "cell_type": "markdown",
   "metadata": {},
   "source": [
    "## Token attributes\n",
    "\n",
    "[https://spacy.io/api/token#attributes](https://spacy.io/api/token#attributes)"
   ]
  },
  {
   "cell_type": "code",
   "execution_count": 68,
   "metadata": {},
   "outputs": [
    {
     "name": "stdout",
     "output_type": "stream",
     "text": [
      "Text with Whitespace  Is Alphabetic?      Is Punctuation?   Is title Word?\n",
      "Gustavo               True                False             True\n",
      "es                    True                False             False\n",
      "un                    True                False             False\n",
      "estudiante            True                False             False\n",
      "de                    True                False             False\n",
      "Ciencia               True                False             True\n",
      "de                    True                False             False\n",
      "datos                 True                False             False\n",
      "que                   True                False             False\n",
      "trabaja               True                False             False\n",
      "en                    True                False             False\n",
      "una                   True                False             False\n",
      "empresa               True                False             False\n",
      "internacional         True                False             False\n",
      ".                     False               True              False\n",
      "Él                    True                False             True\n",
      "está                  True                False             False\n",
      "muy                   True                False             False\n",
      "interesado            True                False             False\n",
      "en                    True                False             False\n",
      "aprender              True                False             False\n",
      "procesado             True                False             False\n",
      "de                    True                False             False\n",
      "lenguaje              True                False             False\n",
      "natural               True                False             False\n",
      ".                     False               True              False\n",
      "Gustavo               True                False             True\n",
      "estudia               True                False             False\n",
      "mucho                 True                False             False\n"
     ]
    }
   ],
   "source": [
    "print(\n",
    "    f\"{'Text with Whitespace':22}\"\n",
    "    f\"{'Is Alphabetic?':20}\"\n",
    "    f\"{'Is Punctuation?':18}\"\n",
    "    f\"{'Is title Word?'}\"\n",
    ")\n",
    "for token in about_doc:\n",
    "    print(\n",
    "        f\"{str(token.text_with_ws):22}\"\n",
    "        f\"{str(token.is_alpha):20}\"\n",
    "        f\"{str(token.is_punct):18}\"\n",
    "        f\"{str(token.is_title)}\"\n",
    "    )"
   ]
  },
  {
   "cell_type": "markdown",
   "metadata": {},
   "source": [
    "## Stop Words\n",
    "\n",
    "Las \"stop words\" generalmente se definen como las palabras más comunes en un idioma. En español, algunos ejemplos de \"stop words\" son el, la, los, las, son, están, pero, ellos, ellas. La mayoría de las oraciones necesitan contener \"stop words\" para ser oraciones completas que tengan sentido gramatical.\n",
    "\n",
    "En el procesamiento de lenguaje natural. las \"stop words\" generalmente se eliminan porque no son significativas y distorsionan en gran medida cualquier análisis de frecuencia de palabras. "
   ]
  },
  {
   "cell_type": "code",
   "execution_count": 69,
   "metadata": {},
   "outputs": [
    {
     "name": "stdout",
     "output_type": "stream",
     "text": [
      "521\n",
      "mis\n",
      "arriba\n",
      "usas\n",
      "adelante\n",
      "conseguir\n",
      "sabe\n",
      "estados\n",
      "haya\n",
      "sabes\n",
      "nos\n"
     ]
    }
   ],
   "source": [
    "spacy_stopwords = spacy.lang.es.stop_words.STOP_WORDS\n",
    "print(len(spacy_stopwords))\n",
    "\n",
    "for stop_word in list(spacy_stopwords)[:10]:\n",
    "    print(stop_word)"
   ]
  },
  {
   "cell_type": "code",
   "execution_count": 70,
   "metadata": {},
   "outputs": [
    {
     "name": "stdout",
     "output_type": "stream",
     "text": [
      "['Gustavo', 'estudiante', 'Ciencia', 'datos', 'trabaja', 'empresa', 'internacional', '.', 'interesado', 'aprender', 'procesado', 'lenguaje', 'natural', '.', 'Gustavo', 'estudia']\n"
     ]
    }
   ],
   "source": [
    "print([token.text for token in about_doc if token.text.lower() not in spacy_stopwords])"
   ]
  },
  {
   "cell_type": "markdown",
   "metadata": {},
   "source": [
    "# Lematización\n",
    "La lematización es el proceso de reducir las formas flexionadas de una palabra mientras se asegura que la forma reducida pertenezca al idioma. Esta forma reducida, o palabra raíz, se llama \"lemma\"."
   ]
  },
  {
   "cell_type": "code",
   "execution_count": 71,
   "metadata": {},
   "outputs": [
    {
     "name": "stdout",
     "output_type": "stream",
     "text": [
      "                  es : ser\n",
      "                  un : uno\n",
      "               datos : dato\n",
      "             trabaja : trabajar\n",
      "                 una : uno\n",
      "                  Él : él\n",
      "                está : estar\n",
      "                 muy : mucho\n",
      "             estudia : estudiar\n"
     ]
    }
   ],
   "source": [
    "for token in about_doc:\n",
    "    if str(token) != str(token.lemma_):\n",
    "        print(f\"{str(token):>20} : {str(token.lemma_)}\")"
   ]
  },
  {
   "cell_type": "markdown",
   "metadata": {},
   "source": [
    "# Frecuencia de palabras"
   ]
  },
  {
   "cell_type": "code",
   "execution_count": 72,
   "metadata": {},
   "outputs": [
    {
     "name": "stdout",
     "output_type": "stream",
     "text": [
      "[('Gustavo', 2), ('estudiante', 1), ('Ciencia', 1), ('datos', 1), ('trabaja', 1)]\n"
     ]
    }
   ],
   "source": [
    "words = [\n",
    "    token.text\n",
    "    for token in about_doc\n",
    "    if not token.is_stop and not token.is_punct\n",
    "]\n",
    "\n",
    "print(Counter(words).most_common(5))"
   ]
  },
  {
   "cell_type": "code",
   "execution_count": 73,
   "metadata": {},
   "outputs": [
    {
     "data": {
      "text/plain": [
       "[('de', 3), ('Gustavo', 2), ('en', 2), ('es', 1), ('un', 1)]"
      ]
     },
     "execution_count": 73,
     "metadata": {},
     "output_type": "execute_result"
    }
   ],
   "source": [
    "Counter(\n",
    "    [token.text for token in about_doc\n",
    "    if not token.is_punct]\n",
    ").most_common(5)"
   ]
  },
  {
   "cell_type": "code",
   "execution_count": 74,
   "metadata": {},
   "outputs": [
    {
     "name": "stdout",
     "output_type": "stream",
     "text": [
      "[('Gustavo', 2), ('estudiante', 1), ('Ciencia', 1), ('dato', 1), ('trabajar', 1)]\n"
     ]
    }
   ],
   "source": [
    "words = [\n",
    "    str(token.lemma_)\n",
    "    for token in about_doc\n",
    "    if not token.is_stop and not token.is_punct\n",
    "]\n",
    "\n",
    "print(Counter(words).most_common(5))"
   ]
  },
  {
   "cell_type": "markdown",
   "metadata": {},
   "source": [
    "# POS\n",
    "Part-of-speech tagging"
   ]
  },
  {
   "cell_type": "code",
   "execution_count": 75,
   "metadata": {},
   "outputs": [
    {
     "name": "stdout",
     "output_type": "stream",
     "text": [
      "\n",
      "TOKEN: Gustavo\n",
      "=====\n",
      "TAG: PROPN      POS: PROPN\n",
      "EXPLANATION: proper noun\n",
      "\n",
      "TOKEN: es\n",
      "=====\n",
      "TAG: AUX        POS: AUX\n",
      "EXPLANATION: auxiliary\n",
      "\n",
      "TOKEN: un\n",
      "=====\n",
      "TAG: DET        POS: DET\n",
      "EXPLANATION: determiner\n",
      "\n",
      "TOKEN: estudiante\n",
      "=====\n",
      "TAG: NOUN       POS: NOUN\n",
      "EXPLANATION: noun\n",
      "\n",
      "TOKEN: de\n",
      "=====\n",
      "TAG: ADP        POS: ADP\n",
      "EXPLANATION: adposition\n",
      "\n",
      "TOKEN: Ciencia\n",
      "=====\n",
      "TAG: PROPN      POS: PROPN\n",
      "EXPLANATION: proper noun\n",
      "\n",
      "TOKEN: de\n",
      "=====\n",
      "TAG: ADP        POS: ADP\n",
      "EXPLANATION: adposition\n",
      "\n",
      "TOKEN: datos\n",
      "=====\n",
      "TAG: NOUN       POS: NOUN\n",
      "EXPLANATION: noun\n",
      "\n",
      "TOKEN: que\n",
      "=====\n",
      "TAG: PRON       POS: PRON\n",
      "EXPLANATION: pronoun\n",
      "\n",
      "TOKEN: trabaja\n",
      "=====\n",
      "TAG: VERB       POS: VERB\n",
      "EXPLANATION: verb\n",
      "\n",
      "TOKEN: en\n",
      "=====\n",
      "TAG: ADP        POS: ADP\n",
      "EXPLANATION: adposition\n",
      "\n",
      "TOKEN: una\n",
      "=====\n",
      "TAG: DET        POS: DET\n",
      "EXPLANATION: determiner\n",
      "\n",
      "TOKEN: empresa\n",
      "=====\n",
      "TAG: NOUN       POS: NOUN\n",
      "EXPLANATION: noun\n",
      "\n",
      "TOKEN: internacional\n",
      "=====\n",
      "TAG: ADJ        POS: ADJ\n",
      "EXPLANATION: adjective\n",
      "\n",
      "TOKEN: .\n",
      "=====\n",
      "TAG: PUNCT      POS: PUNCT\n",
      "EXPLANATION: punctuation\n",
      "\n",
      "TOKEN: Él\n",
      "=====\n",
      "TAG: PRON       POS: PRON\n",
      "EXPLANATION: pronoun\n",
      "\n",
      "TOKEN: está\n",
      "=====\n",
      "TAG: AUX        POS: AUX\n",
      "EXPLANATION: auxiliary\n",
      "\n",
      "TOKEN: muy\n",
      "=====\n",
      "TAG: ADV        POS: ADV\n",
      "EXPLANATION: adverb\n",
      "\n",
      "TOKEN: interesado\n",
      "=====\n",
      "TAG: ADJ        POS: ADJ\n",
      "EXPLANATION: adjective\n",
      "\n",
      "TOKEN: en\n",
      "=====\n",
      "TAG: ADP        POS: ADP\n",
      "EXPLANATION: adposition\n",
      "\n",
      "TOKEN: aprender\n",
      "=====\n",
      "TAG: VERB       POS: VERB\n",
      "EXPLANATION: verb\n",
      "\n",
      "TOKEN: procesado\n",
      "=====\n",
      "TAG: ADJ        POS: ADJ\n",
      "EXPLANATION: adjective\n",
      "\n",
      "TOKEN: de\n",
      "=====\n",
      "TAG: ADP        POS: ADP\n",
      "EXPLANATION: adposition\n",
      "\n",
      "TOKEN: lenguaje\n",
      "=====\n",
      "TAG: NOUN       POS: NOUN\n",
      "EXPLANATION: noun\n",
      "\n",
      "TOKEN: natural\n",
      "=====\n",
      "TAG: ADJ        POS: ADJ\n",
      "EXPLANATION: adjective\n",
      "\n",
      "TOKEN: .\n",
      "=====\n",
      "TAG: PUNCT      POS: PUNCT\n",
      "EXPLANATION: punctuation\n",
      "\n",
      "TOKEN: Gustavo\n",
      "=====\n",
      "TAG: PROPN      POS: PROPN\n",
      "EXPLANATION: proper noun\n",
      "\n",
      "TOKEN: estudia\n",
      "=====\n",
      "TAG: VERB       POS: VERB\n",
      "EXPLANATION: verb\n",
      "\n",
      "TOKEN: mucho\n",
      "=====\n",
      "TAG: ADV        POS: ADV\n",
      "EXPLANATION: adverb\n"
     ]
    }
   ],
   "source": [
    "for token in about_doc:\n",
    "    print(\n",
    "        f\"\"\"\n",
    "TOKEN: {str(token)}\n",
    "=====\n",
    "TAG: {str(token.tag_):10} POS: {token.pos_}\n",
    "EXPLANATION: {spacy.explain(token.tag_)}\"\"\"\n",
    "    )"
   ]
  },
  {
   "cell_type": "code",
   "execution_count": 76,
   "metadata": {},
   "outputs": [
    {
     "name": "stdout",
     "output_type": "stream",
     "text": [
      "[estudiante, datos, empresa, lenguaje]\n",
      "\n",
      "\n",
      "[internacional, interesado, procesado, natural]\n"
     ]
    }
   ],
   "source": [
    "nouns = []\n",
    "adjectives = []\n",
    "for token in about_doc:\n",
    "    if token.pos_ == \"NOUN\":\n",
    "        nouns.append(token)\n",
    "    if token.pos_ == \"ADJ\":\n",
    "        adjectives.append(token)\n",
    "\n",
    "\n",
    "print(nouns)\n",
    "print('\\n')\n",
    "print(adjectives)"
   ]
  },
  {
   "cell_type": "markdown",
   "metadata": {},
   "source": [
    "## Visualization: Using displaCy"
   ]
  },
  {
   "cell_type": "code",
   "execution_count": 77,
   "metadata": {},
   "outputs": [
    {
     "data": {
      "text/html": [
       "<span class=\"tex2jax_ignore\"><svg xmlns=\"http://www.w3.org/2000/svg\" xmlns:xlink=\"http://www.w3.org/1999/xlink\" xml:lang=\"es\" id=\"c4cb89ec2c284bb69fdc5e6370b23baf-0\" class=\"displacy\" width=\"4775\" height=\"399.5\" direction=\"ltr\" style=\"max-width: none; height: 399.5px; color: #000000; background: #ffffff; font-family: Arial; direction: ltr\">\n",
       "<text class=\"displacy-token\" fill=\"currentColor\" text-anchor=\"middle\" y=\"309.5\">\n",
       "    <tspan class=\"displacy-word\" fill=\"currentColor\" x=\"50\">Gustavo</tspan>\n",
       "    <tspan class=\"displacy-tag\" dy=\"2em\" fill=\"currentColor\" x=\"50\">PROPN</tspan>\n",
       "</text>\n",
       "\n",
       "<text class=\"displacy-token\" fill=\"currentColor\" text-anchor=\"middle\" y=\"309.5\">\n",
       "    <tspan class=\"displacy-word\" fill=\"currentColor\" x=\"225\">es</tspan>\n",
       "    <tspan class=\"displacy-tag\" dy=\"2em\" fill=\"currentColor\" x=\"225\">AUX</tspan>\n",
       "</text>\n",
       "\n",
       "<text class=\"displacy-token\" fill=\"currentColor\" text-anchor=\"middle\" y=\"309.5\">\n",
       "    <tspan class=\"displacy-word\" fill=\"currentColor\" x=\"400\">un</tspan>\n",
       "    <tspan class=\"displacy-tag\" dy=\"2em\" fill=\"currentColor\" x=\"400\">DET</tspan>\n",
       "</text>\n",
       "\n",
       "<text class=\"displacy-token\" fill=\"currentColor\" text-anchor=\"middle\" y=\"309.5\">\n",
       "    <tspan class=\"displacy-word\" fill=\"currentColor\" x=\"575\">estudiante</tspan>\n",
       "    <tspan class=\"displacy-tag\" dy=\"2em\" fill=\"currentColor\" x=\"575\">NOUN</tspan>\n",
       "</text>\n",
       "\n",
       "<text class=\"displacy-token\" fill=\"currentColor\" text-anchor=\"middle\" y=\"309.5\">\n",
       "    <tspan class=\"displacy-word\" fill=\"currentColor\" x=\"750\">de</tspan>\n",
       "    <tspan class=\"displacy-tag\" dy=\"2em\" fill=\"currentColor\" x=\"750\">ADP</tspan>\n",
       "</text>\n",
       "\n",
       "<text class=\"displacy-token\" fill=\"currentColor\" text-anchor=\"middle\" y=\"309.5\">\n",
       "    <tspan class=\"displacy-word\" fill=\"currentColor\" x=\"925\">Ciencia</tspan>\n",
       "    <tspan class=\"displacy-tag\" dy=\"2em\" fill=\"currentColor\" x=\"925\">PROPN</tspan>\n",
       "</text>\n",
       "\n",
       "<text class=\"displacy-token\" fill=\"currentColor\" text-anchor=\"middle\" y=\"309.5\">\n",
       "    <tspan class=\"displacy-word\" fill=\"currentColor\" x=\"1100\">de</tspan>\n",
       "    <tspan class=\"displacy-tag\" dy=\"2em\" fill=\"currentColor\" x=\"1100\">ADP</tspan>\n",
       "</text>\n",
       "\n",
       "<text class=\"displacy-token\" fill=\"currentColor\" text-anchor=\"middle\" y=\"309.5\">\n",
       "    <tspan class=\"displacy-word\" fill=\"currentColor\" x=\"1275\">datos</tspan>\n",
       "    <tspan class=\"displacy-tag\" dy=\"2em\" fill=\"currentColor\" x=\"1275\">NOUN</tspan>\n",
       "</text>\n",
       "\n",
       "<text class=\"displacy-token\" fill=\"currentColor\" text-anchor=\"middle\" y=\"309.5\">\n",
       "    <tspan class=\"displacy-word\" fill=\"currentColor\" x=\"1450\">que</tspan>\n",
       "    <tspan class=\"displacy-tag\" dy=\"2em\" fill=\"currentColor\" x=\"1450\">PRON</tspan>\n",
       "</text>\n",
       "\n",
       "<text class=\"displacy-token\" fill=\"currentColor\" text-anchor=\"middle\" y=\"309.5\">\n",
       "    <tspan class=\"displacy-word\" fill=\"currentColor\" x=\"1625\">trabaja</tspan>\n",
       "    <tspan class=\"displacy-tag\" dy=\"2em\" fill=\"currentColor\" x=\"1625\">VERB</tspan>\n",
       "</text>\n",
       "\n",
       "<text class=\"displacy-token\" fill=\"currentColor\" text-anchor=\"middle\" y=\"309.5\">\n",
       "    <tspan class=\"displacy-word\" fill=\"currentColor\" x=\"1800\">en</tspan>\n",
       "    <tspan class=\"displacy-tag\" dy=\"2em\" fill=\"currentColor\" x=\"1800\">ADP</tspan>\n",
       "</text>\n",
       "\n",
       "<text class=\"displacy-token\" fill=\"currentColor\" text-anchor=\"middle\" y=\"309.5\">\n",
       "    <tspan class=\"displacy-word\" fill=\"currentColor\" x=\"1975\">una</tspan>\n",
       "    <tspan class=\"displacy-tag\" dy=\"2em\" fill=\"currentColor\" x=\"1975\">DET</tspan>\n",
       "</text>\n",
       "\n",
       "<text class=\"displacy-token\" fill=\"currentColor\" text-anchor=\"middle\" y=\"309.5\">\n",
       "    <tspan class=\"displacy-word\" fill=\"currentColor\" x=\"2150\">empresa</tspan>\n",
       "    <tspan class=\"displacy-tag\" dy=\"2em\" fill=\"currentColor\" x=\"2150\">NOUN</tspan>\n",
       "</text>\n",
       "\n",
       "<text class=\"displacy-token\" fill=\"currentColor\" text-anchor=\"middle\" y=\"309.5\">\n",
       "    <tspan class=\"displacy-word\" fill=\"currentColor\" x=\"2325\">internacional.</tspan>\n",
       "    <tspan class=\"displacy-tag\" dy=\"2em\" fill=\"currentColor\" x=\"2325\">ADJ</tspan>\n",
       "</text>\n",
       "\n",
       "<text class=\"displacy-token\" fill=\"currentColor\" text-anchor=\"middle\" y=\"309.5\">\n",
       "    <tspan class=\"displacy-word\" fill=\"currentColor\" x=\"2500\">Él</tspan>\n",
       "    <tspan class=\"displacy-tag\" dy=\"2em\" fill=\"currentColor\" x=\"2500\">PRON</tspan>\n",
       "</text>\n",
       "\n",
       "<text class=\"displacy-token\" fill=\"currentColor\" text-anchor=\"middle\" y=\"309.5\">\n",
       "    <tspan class=\"displacy-word\" fill=\"currentColor\" x=\"2675\">está</tspan>\n",
       "    <tspan class=\"displacy-tag\" dy=\"2em\" fill=\"currentColor\" x=\"2675\">AUX</tspan>\n",
       "</text>\n",
       "\n",
       "<text class=\"displacy-token\" fill=\"currentColor\" text-anchor=\"middle\" y=\"309.5\">\n",
       "    <tspan class=\"displacy-word\" fill=\"currentColor\" x=\"2850\">muy</tspan>\n",
       "    <tspan class=\"displacy-tag\" dy=\"2em\" fill=\"currentColor\" x=\"2850\">ADV</tspan>\n",
       "</text>\n",
       "\n",
       "<text class=\"displacy-token\" fill=\"currentColor\" text-anchor=\"middle\" y=\"309.5\">\n",
       "    <tspan class=\"displacy-word\" fill=\"currentColor\" x=\"3025\">interesado</tspan>\n",
       "    <tspan class=\"displacy-tag\" dy=\"2em\" fill=\"currentColor\" x=\"3025\">ADJ</tspan>\n",
       "</text>\n",
       "\n",
       "<text class=\"displacy-token\" fill=\"currentColor\" text-anchor=\"middle\" y=\"309.5\">\n",
       "    <tspan class=\"displacy-word\" fill=\"currentColor\" x=\"3200\">en</tspan>\n",
       "    <tspan class=\"displacy-tag\" dy=\"2em\" fill=\"currentColor\" x=\"3200\">ADP</tspan>\n",
       "</text>\n",
       "\n",
       "<text class=\"displacy-token\" fill=\"currentColor\" text-anchor=\"middle\" y=\"309.5\">\n",
       "    <tspan class=\"displacy-word\" fill=\"currentColor\" x=\"3375\">aprender</tspan>\n",
       "    <tspan class=\"displacy-tag\" dy=\"2em\" fill=\"currentColor\" x=\"3375\">VERB</tspan>\n",
       "</text>\n",
       "\n",
       "<text class=\"displacy-token\" fill=\"currentColor\" text-anchor=\"middle\" y=\"309.5\">\n",
       "    <tspan class=\"displacy-word\" fill=\"currentColor\" x=\"3550\">procesado</tspan>\n",
       "    <tspan class=\"displacy-tag\" dy=\"2em\" fill=\"currentColor\" x=\"3550\">ADJ</tspan>\n",
       "</text>\n",
       "\n",
       "<text class=\"displacy-token\" fill=\"currentColor\" text-anchor=\"middle\" y=\"309.5\">\n",
       "    <tspan class=\"displacy-word\" fill=\"currentColor\" x=\"3725\">de</tspan>\n",
       "    <tspan class=\"displacy-tag\" dy=\"2em\" fill=\"currentColor\" x=\"3725\">ADP</tspan>\n",
       "</text>\n",
       "\n",
       "<text class=\"displacy-token\" fill=\"currentColor\" text-anchor=\"middle\" y=\"309.5\">\n",
       "    <tspan class=\"displacy-word\" fill=\"currentColor\" x=\"3900\">lenguaje</tspan>\n",
       "    <tspan class=\"displacy-tag\" dy=\"2em\" fill=\"currentColor\" x=\"3900\">NOUN</tspan>\n",
       "</text>\n",
       "\n",
       "<text class=\"displacy-token\" fill=\"currentColor\" text-anchor=\"middle\" y=\"309.5\">\n",
       "    <tspan class=\"displacy-word\" fill=\"currentColor\" x=\"4075\">natural.</tspan>\n",
       "    <tspan class=\"displacy-tag\" dy=\"2em\" fill=\"currentColor\" x=\"4075\">ADJ</tspan>\n",
       "</text>\n",
       "\n",
       "<text class=\"displacy-token\" fill=\"currentColor\" text-anchor=\"middle\" y=\"309.5\">\n",
       "    <tspan class=\"displacy-word\" fill=\"currentColor\" x=\"4250\">Gustavo</tspan>\n",
       "    <tspan class=\"displacy-tag\" dy=\"2em\" fill=\"currentColor\" x=\"4250\">PROPN</tspan>\n",
       "</text>\n",
       "\n",
       "<text class=\"displacy-token\" fill=\"currentColor\" text-anchor=\"middle\" y=\"309.5\">\n",
       "    <tspan class=\"displacy-word\" fill=\"currentColor\" x=\"4425\">estudia</tspan>\n",
       "    <tspan class=\"displacy-tag\" dy=\"2em\" fill=\"currentColor\" x=\"4425\">VERB</tspan>\n",
       "</text>\n",
       "\n",
       "<text class=\"displacy-token\" fill=\"currentColor\" text-anchor=\"middle\" y=\"309.5\">\n",
       "    <tspan class=\"displacy-word\" fill=\"currentColor\" x=\"4600\">mucho</tspan>\n",
       "    <tspan class=\"displacy-tag\" dy=\"2em\" fill=\"currentColor\" x=\"4600\">ADV</tspan>\n",
       "</text>\n",
       "\n",
       "<g class=\"displacy-arrow\">\n",
       "    <path class=\"displacy-arc\" id=\"arrow-c4cb89ec2c284bb69fdc5e6370b23baf-0-0\" stroke-width=\"2px\" d=\"M70,264.5 C70,2.0 575.0,2.0 575.0,264.5\" fill=\"none\" stroke=\"currentColor\"/>\n",
       "    <text dy=\"1.25em\" style=\"font-size: 0.8em; letter-spacing: 1px\">\n",
       "        <textPath xlink:href=\"#arrow-c4cb89ec2c284bb69fdc5e6370b23baf-0-0\" class=\"displacy-label\" startOffset=\"50%\" side=\"left\" fill=\"currentColor\" text-anchor=\"middle\">nsubj</textPath>\n",
       "    </text>\n",
       "    <path class=\"displacy-arrowhead\" d=\"M70,266.5 L62,254.5 78,254.5\" fill=\"currentColor\"/>\n",
       "</g>\n",
       "\n",
       "<g class=\"displacy-arrow\">\n",
       "    <path class=\"displacy-arc\" id=\"arrow-c4cb89ec2c284bb69fdc5e6370b23baf-0-1\" stroke-width=\"2px\" d=\"M245,264.5 C245,89.5 570.0,89.5 570.0,264.5\" fill=\"none\" stroke=\"currentColor\"/>\n",
       "    <text dy=\"1.25em\" style=\"font-size: 0.8em; letter-spacing: 1px\">\n",
       "        <textPath xlink:href=\"#arrow-c4cb89ec2c284bb69fdc5e6370b23baf-0-1\" class=\"displacy-label\" startOffset=\"50%\" side=\"left\" fill=\"currentColor\" text-anchor=\"middle\">cop</textPath>\n",
       "    </text>\n",
       "    <path class=\"displacy-arrowhead\" d=\"M245,266.5 L237,254.5 253,254.5\" fill=\"currentColor\"/>\n",
       "</g>\n",
       "\n",
       "<g class=\"displacy-arrow\">\n",
       "    <path class=\"displacy-arc\" id=\"arrow-c4cb89ec2c284bb69fdc5e6370b23baf-0-2\" stroke-width=\"2px\" d=\"M420,264.5 C420,177.0 565.0,177.0 565.0,264.5\" fill=\"none\" stroke=\"currentColor\"/>\n",
       "    <text dy=\"1.25em\" style=\"font-size: 0.8em; letter-spacing: 1px\">\n",
       "        <textPath xlink:href=\"#arrow-c4cb89ec2c284bb69fdc5e6370b23baf-0-2\" class=\"displacy-label\" startOffset=\"50%\" side=\"left\" fill=\"currentColor\" text-anchor=\"middle\">det</textPath>\n",
       "    </text>\n",
       "    <path class=\"displacy-arrowhead\" d=\"M420,266.5 L412,254.5 428,254.5\" fill=\"currentColor\"/>\n",
       "</g>\n",
       "\n",
       "<g class=\"displacy-arrow\">\n",
       "    <path class=\"displacy-arc\" id=\"arrow-c4cb89ec2c284bb69fdc5e6370b23baf-0-3\" stroke-width=\"2px\" d=\"M770,264.5 C770,177.0 915.0,177.0 915.0,264.5\" fill=\"none\" stroke=\"currentColor\"/>\n",
       "    <text dy=\"1.25em\" style=\"font-size: 0.8em; letter-spacing: 1px\">\n",
       "        <textPath xlink:href=\"#arrow-c4cb89ec2c284bb69fdc5e6370b23baf-0-3\" class=\"displacy-label\" startOffset=\"50%\" side=\"left\" fill=\"currentColor\" text-anchor=\"middle\">case</textPath>\n",
       "    </text>\n",
       "    <path class=\"displacy-arrowhead\" d=\"M770,266.5 L762,254.5 778,254.5\" fill=\"currentColor\"/>\n",
       "</g>\n",
       "\n",
       "<g class=\"displacy-arrow\">\n",
       "    <path class=\"displacy-arc\" id=\"arrow-c4cb89ec2c284bb69fdc5e6370b23baf-0-4\" stroke-width=\"2px\" d=\"M595,264.5 C595,89.5 920.0,89.5 920.0,264.5\" fill=\"none\" stroke=\"currentColor\"/>\n",
       "    <text dy=\"1.25em\" style=\"font-size: 0.8em; letter-spacing: 1px\">\n",
       "        <textPath xlink:href=\"#arrow-c4cb89ec2c284bb69fdc5e6370b23baf-0-4\" class=\"displacy-label\" startOffset=\"50%\" side=\"left\" fill=\"currentColor\" text-anchor=\"middle\">nmod</textPath>\n",
       "    </text>\n",
       "    <path class=\"displacy-arrowhead\" d=\"M920.0,266.5 L928.0,254.5 912.0,254.5\" fill=\"currentColor\"/>\n",
       "</g>\n",
       "\n",
       "<g class=\"displacy-arrow\">\n",
       "    <path class=\"displacy-arc\" id=\"arrow-c4cb89ec2c284bb69fdc5e6370b23baf-0-5\" stroke-width=\"2px\" d=\"M1120,264.5 C1120,177.0 1265.0,177.0 1265.0,264.5\" fill=\"none\" stroke=\"currentColor\"/>\n",
       "    <text dy=\"1.25em\" style=\"font-size: 0.8em; letter-spacing: 1px\">\n",
       "        <textPath xlink:href=\"#arrow-c4cb89ec2c284bb69fdc5e6370b23baf-0-5\" class=\"displacy-label\" startOffset=\"50%\" side=\"left\" fill=\"currentColor\" text-anchor=\"middle\">case</textPath>\n",
       "    </text>\n",
       "    <path class=\"displacy-arrowhead\" d=\"M1120,266.5 L1112,254.5 1128,254.5\" fill=\"currentColor\"/>\n",
       "</g>\n",
       "\n",
       "<g class=\"displacy-arrow\">\n",
       "    <path class=\"displacy-arc\" id=\"arrow-c4cb89ec2c284bb69fdc5e6370b23baf-0-6\" stroke-width=\"2px\" d=\"M945,264.5 C945,89.5 1270.0,89.5 1270.0,264.5\" fill=\"none\" stroke=\"currentColor\"/>\n",
       "    <text dy=\"1.25em\" style=\"font-size: 0.8em; letter-spacing: 1px\">\n",
       "        <textPath xlink:href=\"#arrow-c4cb89ec2c284bb69fdc5e6370b23baf-0-6\" class=\"displacy-label\" startOffset=\"50%\" side=\"left\" fill=\"currentColor\" text-anchor=\"middle\">nmod</textPath>\n",
       "    </text>\n",
       "    <path class=\"displacy-arrowhead\" d=\"M1270.0,266.5 L1278.0,254.5 1262.0,254.5\" fill=\"currentColor\"/>\n",
       "</g>\n",
       "\n",
       "<g class=\"displacy-arrow\">\n",
       "    <path class=\"displacy-arc\" id=\"arrow-c4cb89ec2c284bb69fdc5e6370b23baf-0-7\" stroke-width=\"2px\" d=\"M1470,264.5 C1470,177.0 1615.0,177.0 1615.0,264.5\" fill=\"none\" stroke=\"currentColor\"/>\n",
       "    <text dy=\"1.25em\" style=\"font-size: 0.8em; letter-spacing: 1px\">\n",
       "        <textPath xlink:href=\"#arrow-c4cb89ec2c284bb69fdc5e6370b23baf-0-7\" class=\"displacy-label\" startOffset=\"50%\" side=\"left\" fill=\"currentColor\" text-anchor=\"middle\">nsubj</textPath>\n",
       "    </text>\n",
       "    <path class=\"displacy-arrowhead\" d=\"M1470,266.5 L1462,254.5 1478,254.5\" fill=\"currentColor\"/>\n",
       "</g>\n",
       "\n",
       "<g class=\"displacy-arrow\">\n",
       "    <path class=\"displacy-arc\" id=\"arrow-c4cb89ec2c284bb69fdc5e6370b23baf-0-8\" stroke-width=\"2px\" d=\"M595,264.5 C595,2.0 1625.0,2.0 1625.0,264.5\" fill=\"none\" stroke=\"currentColor\"/>\n",
       "    <text dy=\"1.25em\" style=\"font-size: 0.8em; letter-spacing: 1px\">\n",
       "        <textPath xlink:href=\"#arrow-c4cb89ec2c284bb69fdc5e6370b23baf-0-8\" class=\"displacy-label\" startOffset=\"50%\" side=\"left\" fill=\"currentColor\" text-anchor=\"middle\">acl</textPath>\n",
       "    </text>\n",
       "    <path class=\"displacy-arrowhead\" d=\"M1625.0,266.5 L1633.0,254.5 1617.0,254.5\" fill=\"currentColor\"/>\n",
       "</g>\n",
       "\n",
       "<g class=\"displacy-arrow\">\n",
       "    <path class=\"displacy-arc\" id=\"arrow-c4cb89ec2c284bb69fdc5e6370b23baf-0-9\" stroke-width=\"2px\" d=\"M1820,264.5 C1820,89.5 2145.0,89.5 2145.0,264.5\" fill=\"none\" stroke=\"currentColor\"/>\n",
       "    <text dy=\"1.25em\" style=\"font-size: 0.8em; letter-spacing: 1px\">\n",
       "        <textPath xlink:href=\"#arrow-c4cb89ec2c284bb69fdc5e6370b23baf-0-9\" class=\"displacy-label\" startOffset=\"50%\" side=\"left\" fill=\"currentColor\" text-anchor=\"middle\">case</textPath>\n",
       "    </text>\n",
       "    <path class=\"displacy-arrowhead\" d=\"M1820,266.5 L1812,254.5 1828,254.5\" fill=\"currentColor\"/>\n",
       "</g>\n",
       "\n",
       "<g class=\"displacy-arrow\">\n",
       "    <path class=\"displacy-arc\" id=\"arrow-c4cb89ec2c284bb69fdc5e6370b23baf-0-10\" stroke-width=\"2px\" d=\"M1995,264.5 C1995,177.0 2140.0,177.0 2140.0,264.5\" fill=\"none\" stroke=\"currentColor\"/>\n",
       "    <text dy=\"1.25em\" style=\"font-size: 0.8em; letter-spacing: 1px\">\n",
       "        <textPath xlink:href=\"#arrow-c4cb89ec2c284bb69fdc5e6370b23baf-0-10\" class=\"displacy-label\" startOffset=\"50%\" side=\"left\" fill=\"currentColor\" text-anchor=\"middle\">det</textPath>\n",
       "    </text>\n",
       "    <path class=\"displacy-arrowhead\" d=\"M1995,266.5 L1987,254.5 2003,254.5\" fill=\"currentColor\"/>\n",
       "</g>\n",
       "\n",
       "<g class=\"displacy-arrow\">\n",
       "    <path class=\"displacy-arc\" id=\"arrow-c4cb89ec2c284bb69fdc5e6370b23baf-0-11\" stroke-width=\"2px\" d=\"M1645,264.5 C1645,2.0 2150.0,2.0 2150.0,264.5\" fill=\"none\" stroke=\"currentColor\"/>\n",
       "    <text dy=\"1.25em\" style=\"font-size: 0.8em; letter-spacing: 1px\">\n",
       "        <textPath xlink:href=\"#arrow-c4cb89ec2c284bb69fdc5e6370b23baf-0-11\" class=\"displacy-label\" startOffset=\"50%\" side=\"left\" fill=\"currentColor\" text-anchor=\"middle\">obl</textPath>\n",
       "    </text>\n",
       "    <path class=\"displacy-arrowhead\" d=\"M2150.0,266.5 L2158.0,254.5 2142.0,254.5\" fill=\"currentColor\"/>\n",
       "</g>\n",
       "\n",
       "<g class=\"displacy-arrow\">\n",
       "    <path class=\"displacy-arc\" id=\"arrow-c4cb89ec2c284bb69fdc5e6370b23baf-0-12\" stroke-width=\"2px\" d=\"M2170,264.5 C2170,177.0 2315.0,177.0 2315.0,264.5\" fill=\"none\" stroke=\"currentColor\"/>\n",
       "    <text dy=\"1.25em\" style=\"font-size: 0.8em; letter-spacing: 1px\">\n",
       "        <textPath xlink:href=\"#arrow-c4cb89ec2c284bb69fdc5e6370b23baf-0-12\" class=\"displacy-label\" startOffset=\"50%\" side=\"left\" fill=\"currentColor\" text-anchor=\"middle\">amod</textPath>\n",
       "    </text>\n",
       "    <path class=\"displacy-arrowhead\" d=\"M2315.0,266.5 L2323.0,254.5 2307.0,254.5\" fill=\"currentColor\"/>\n",
       "</g>\n",
       "\n",
       "<g class=\"displacy-arrow\">\n",
       "    <path class=\"displacy-arc\" id=\"arrow-c4cb89ec2c284bb69fdc5e6370b23baf-0-13\" stroke-width=\"2px\" d=\"M2520,264.5 C2520,2.0 3025.0,2.0 3025.0,264.5\" fill=\"none\" stroke=\"currentColor\"/>\n",
       "    <text dy=\"1.25em\" style=\"font-size: 0.8em; letter-spacing: 1px\">\n",
       "        <textPath xlink:href=\"#arrow-c4cb89ec2c284bb69fdc5e6370b23baf-0-13\" class=\"displacy-label\" startOffset=\"50%\" side=\"left\" fill=\"currentColor\" text-anchor=\"middle\">nsubj</textPath>\n",
       "    </text>\n",
       "    <path class=\"displacy-arrowhead\" d=\"M2520,266.5 L2512,254.5 2528,254.5\" fill=\"currentColor\"/>\n",
       "</g>\n",
       "\n",
       "<g class=\"displacy-arrow\">\n",
       "    <path class=\"displacy-arc\" id=\"arrow-c4cb89ec2c284bb69fdc5e6370b23baf-0-14\" stroke-width=\"2px\" d=\"M2695,264.5 C2695,89.5 3020.0,89.5 3020.0,264.5\" fill=\"none\" stroke=\"currentColor\"/>\n",
       "    <text dy=\"1.25em\" style=\"font-size: 0.8em; letter-spacing: 1px\">\n",
       "        <textPath xlink:href=\"#arrow-c4cb89ec2c284bb69fdc5e6370b23baf-0-14\" class=\"displacy-label\" startOffset=\"50%\" side=\"left\" fill=\"currentColor\" text-anchor=\"middle\">cop</textPath>\n",
       "    </text>\n",
       "    <path class=\"displacy-arrowhead\" d=\"M2695,266.5 L2687,254.5 2703,254.5\" fill=\"currentColor\"/>\n",
       "</g>\n",
       "\n",
       "<g class=\"displacy-arrow\">\n",
       "    <path class=\"displacy-arc\" id=\"arrow-c4cb89ec2c284bb69fdc5e6370b23baf-0-15\" stroke-width=\"2px\" d=\"M2870,264.5 C2870,177.0 3015.0,177.0 3015.0,264.5\" fill=\"none\" stroke=\"currentColor\"/>\n",
       "    <text dy=\"1.25em\" style=\"font-size: 0.8em; letter-spacing: 1px\">\n",
       "        <textPath xlink:href=\"#arrow-c4cb89ec2c284bb69fdc5e6370b23baf-0-15\" class=\"displacy-label\" startOffset=\"50%\" side=\"left\" fill=\"currentColor\" text-anchor=\"middle\">advmod</textPath>\n",
       "    </text>\n",
       "    <path class=\"displacy-arrowhead\" d=\"M2870,266.5 L2862,254.5 2878,254.5\" fill=\"currentColor\"/>\n",
       "</g>\n",
       "\n",
       "<g class=\"displacy-arrow\">\n",
       "    <path class=\"displacy-arc\" id=\"arrow-c4cb89ec2c284bb69fdc5e6370b23baf-0-16\" stroke-width=\"2px\" d=\"M3220,264.5 C3220,177.0 3365.0,177.0 3365.0,264.5\" fill=\"none\" stroke=\"currentColor\"/>\n",
       "    <text dy=\"1.25em\" style=\"font-size: 0.8em; letter-spacing: 1px\">\n",
       "        <textPath xlink:href=\"#arrow-c4cb89ec2c284bb69fdc5e6370b23baf-0-16\" class=\"displacy-label\" startOffset=\"50%\" side=\"left\" fill=\"currentColor\" text-anchor=\"middle\">mark</textPath>\n",
       "    </text>\n",
       "    <path class=\"displacy-arrowhead\" d=\"M3220,266.5 L3212,254.5 3228,254.5\" fill=\"currentColor\"/>\n",
       "</g>\n",
       "\n",
       "<g class=\"displacy-arrow\">\n",
       "    <path class=\"displacy-arc\" id=\"arrow-c4cb89ec2c284bb69fdc5e6370b23baf-0-17\" stroke-width=\"2px\" d=\"M3045,264.5 C3045,89.5 3370.0,89.5 3370.0,264.5\" fill=\"none\" stroke=\"currentColor\"/>\n",
       "    <text dy=\"1.25em\" style=\"font-size: 0.8em; letter-spacing: 1px\">\n",
       "        <textPath xlink:href=\"#arrow-c4cb89ec2c284bb69fdc5e6370b23baf-0-17\" class=\"displacy-label\" startOffset=\"50%\" side=\"left\" fill=\"currentColor\" text-anchor=\"middle\">xcomp</textPath>\n",
       "    </text>\n",
       "    <path class=\"displacy-arrowhead\" d=\"M3370.0,266.5 L3378.0,254.5 3362.0,254.5\" fill=\"currentColor\"/>\n",
       "</g>\n",
       "\n",
       "<g class=\"displacy-arrow\">\n",
       "    <path class=\"displacy-arc\" id=\"arrow-c4cb89ec2c284bb69fdc5e6370b23baf-0-18\" stroke-width=\"2px\" d=\"M3395,264.5 C3395,177.0 3540.0,177.0 3540.0,264.5\" fill=\"none\" stroke=\"currentColor\"/>\n",
       "    <text dy=\"1.25em\" style=\"font-size: 0.8em; letter-spacing: 1px\">\n",
       "        <textPath xlink:href=\"#arrow-c4cb89ec2c284bb69fdc5e6370b23baf-0-18\" class=\"displacy-label\" startOffset=\"50%\" side=\"left\" fill=\"currentColor\" text-anchor=\"middle\">obj</textPath>\n",
       "    </text>\n",
       "    <path class=\"displacy-arrowhead\" d=\"M3540.0,266.5 L3548.0,254.5 3532.0,254.5\" fill=\"currentColor\"/>\n",
       "</g>\n",
       "\n",
       "<g class=\"displacy-arrow\">\n",
       "    <path class=\"displacy-arc\" id=\"arrow-c4cb89ec2c284bb69fdc5e6370b23baf-0-19\" stroke-width=\"2px\" d=\"M3745,264.5 C3745,177.0 3890.0,177.0 3890.0,264.5\" fill=\"none\" stroke=\"currentColor\"/>\n",
       "    <text dy=\"1.25em\" style=\"font-size: 0.8em; letter-spacing: 1px\">\n",
       "        <textPath xlink:href=\"#arrow-c4cb89ec2c284bb69fdc5e6370b23baf-0-19\" class=\"displacy-label\" startOffset=\"50%\" side=\"left\" fill=\"currentColor\" text-anchor=\"middle\">case</textPath>\n",
       "    </text>\n",
       "    <path class=\"displacy-arrowhead\" d=\"M3745,266.5 L3737,254.5 3753,254.5\" fill=\"currentColor\"/>\n",
       "</g>\n",
       "\n",
       "<g class=\"displacy-arrow\">\n",
       "    <path class=\"displacy-arc\" id=\"arrow-c4cb89ec2c284bb69fdc5e6370b23baf-0-20\" stroke-width=\"2px\" d=\"M3570,264.5 C3570,89.5 3895.0,89.5 3895.0,264.5\" fill=\"none\" stroke=\"currentColor\"/>\n",
       "    <text dy=\"1.25em\" style=\"font-size: 0.8em; letter-spacing: 1px\">\n",
       "        <textPath xlink:href=\"#arrow-c4cb89ec2c284bb69fdc5e6370b23baf-0-20\" class=\"displacy-label\" startOffset=\"50%\" side=\"left\" fill=\"currentColor\" text-anchor=\"middle\">nmod</textPath>\n",
       "    </text>\n",
       "    <path class=\"displacy-arrowhead\" d=\"M3895.0,266.5 L3903.0,254.5 3887.0,254.5\" fill=\"currentColor\"/>\n",
       "</g>\n",
       "\n",
       "<g class=\"displacy-arrow\">\n",
       "    <path class=\"displacy-arc\" id=\"arrow-c4cb89ec2c284bb69fdc5e6370b23baf-0-21\" stroke-width=\"2px\" d=\"M3920,264.5 C3920,177.0 4065.0,177.0 4065.0,264.5\" fill=\"none\" stroke=\"currentColor\"/>\n",
       "    <text dy=\"1.25em\" style=\"font-size: 0.8em; letter-spacing: 1px\">\n",
       "        <textPath xlink:href=\"#arrow-c4cb89ec2c284bb69fdc5e6370b23baf-0-21\" class=\"displacy-label\" startOffset=\"50%\" side=\"left\" fill=\"currentColor\" text-anchor=\"middle\">amod</textPath>\n",
       "    </text>\n",
       "    <path class=\"displacy-arrowhead\" d=\"M4065.0,266.5 L4073.0,254.5 4057.0,254.5\" fill=\"currentColor\"/>\n",
       "</g>\n",
       "\n",
       "<g class=\"displacy-arrow\">\n",
       "    <path class=\"displacy-arc\" id=\"arrow-c4cb89ec2c284bb69fdc5e6370b23baf-0-22\" stroke-width=\"2px\" d=\"M4270,264.5 C4270,177.0 4415.0,177.0 4415.0,264.5\" fill=\"none\" stroke=\"currentColor\"/>\n",
       "    <text dy=\"1.25em\" style=\"font-size: 0.8em; letter-spacing: 1px\">\n",
       "        <textPath xlink:href=\"#arrow-c4cb89ec2c284bb69fdc5e6370b23baf-0-22\" class=\"displacy-label\" startOffset=\"50%\" side=\"left\" fill=\"currentColor\" text-anchor=\"middle\">nsubj</textPath>\n",
       "    </text>\n",
       "    <path class=\"displacy-arrowhead\" d=\"M4270,266.5 L4262,254.5 4278,254.5\" fill=\"currentColor\"/>\n",
       "</g>\n",
       "\n",
       "<g class=\"displacy-arrow\">\n",
       "    <path class=\"displacy-arc\" id=\"arrow-c4cb89ec2c284bb69fdc5e6370b23baf-0-23\" stroke-width=\"2px\" d=\"M4445,264.5 C4445,177.0 4590.0,177.0 4590.0,264.5\" fill=\"none\" stroke=\"currentColor\"/>\n",
       "    <text dy=\"1.25em\" style=\"font-size: 0.8em; letter-spacing: 1px\">\n",
       "        <textPath xlink:href=\"#arrow-c4cb89ec2c284bb69fdc5e6370b23baf-0-23\" class=\"displacy-label\" startOffset=\"50%\" side=\"left\" fill=\"currentColor\" text-anchor=\"middle\">advmod</textPath>\n",
       "    </text>\n",
       "    <path class=\"displacy-arrowhead\" d=\"M4590.0,266.5 L4598.0,254.5 4582.0,254.5\" fill=\"currentColor\"/>\n",
       "</g>\n",
       "</svg></span>"
      ],
      "text/plain": [
       "<IPython.core.display.HTML object>"
      ]
     },
     "metadata": {},
     "output_type": "display_data"
    }
   ],
   "source": [
    "displacy.render(about_doc, style=\"dep\", jupyter=True)"
   ]
  },
  {
   "cell_type": "markdown",
   "metadata": {},
   "source": [
    "# Funciones de preprocesamiento\n",
    "\n",
    "Se creará una función para limpiar texto, el resultado no contiene ninguna palabra de parada (stop words) ni símbolos de puntuación, y está compuesto únicamente por tokens lematizados en minúsculas."
   ]
  },
  {
   "cell_type": "code",
   "execution_count": 78,
   "metadata": {},
   "outputs": [],
   "source": [
    "file_name = \"./docs/doc2.txt\"\n",
    "doc2 = nlp(pathlib.Path(file_name).read_text(encoding=\"utf-8\"))"
   ]
  },
  {
   "cell_type": "code",
   "execution_count": 79,
   "metadata": {},
   "outputs": [
    {
     "name": "stdout",
     "output_type": "stream",
     "text": [
      "['principito', 'domesticó', 'zorro', 'acercar', 'día', 'partida', 'ah', 'zorro', 'lloraré.', 'culpa', 'principito', 'queríar', 'hacerte', 'daño', 'tú', 'haber', 'querer', 'domesticar', 'ciertamente', 'zorro', 'ir', 'llorar', 'él', 'principito', 'seguro', 'ganar', 'gano', 'zorro', 'ganar', 'causa', 'color', 'trigo', 'añadió', 'vetir', 'rosa', 'comprenderás', 'única', 'mundo', 'volverás', 'decir yo', 'adió', 'regalaré', 'secreto', 'principito', 'rosa', 'parecer', 'rosa', 'domesticar', 'domesticar', 'zorro', 'diferenciar', 'cien', 'mil', 'zorro', 'hacer', 'amigo', 'único', 'mundo', 'rosa', 'sentíir', 'molesto', 'oir', 'principito', 'continuó', 'diciéndol', 'bello', 'están', 'vacía', 'daría', 'vida', 'cualquiera', 'ver', 'podrá', 'creer', 'indudablemente', 'mí', 'rosa', 'cualquiera', 'más', 'importante', 'regar', 'abrigué', 'fanal', 'maté', 'gusano', 'mariposa', 'oído', 'quejar él', 'alabar él', 'callar él', 'rosa', 'volvió', 'zorro', 'adiós', 'adiós', 'zorro', 'aquí', 'secreto', 'más', 'simple', 'sólo', 'corazón', 'esencial', 'invisible', 'ojo', 'esencial', 'invisible', 'ojo', 'repitió', 'principito', 'acordar él', 'más', 'importante', 'rosa', 'tiempo', 'tú', 'haber', 'perder', 'tiempo', 'perder', 'repitió', 'principito', 'recordar él', 'hombre', 'olvidar', 'zorro', 'tú', 'deber', 'olvidar él', 'responsable', 'haber', 'domesticar', 'tú', 'responsable', 'rosa', 'responsable', 'rosa', 'repitió', 'principito', 'recordar él']\n"
     ]
    }
   ],
   "source": [
    "complete_doc = nlp(doc2)\n",
    "\n",
    "def is_token_allowed(token):\n",
    "    allowed_conditions = (\n",
    "        token,\n",
    "        str(token).strip(),\n",
    "        not token.is_stop,\n",
    "        not token.is_punct\n",
    "    )\n",
    "    return all(allowed_conditions)\n",
    "\n",
    "def preprocess_token(token):\n",
    "    lemma = token.lemma_.strip().lower()\n",
    "    return lemma\n",
    "\n",
    "complete_filtered_tokens = [\n",
    "    preprocess_token(token)\n",
    "    for token in complete_doc\n",
    "    if is_token_allowed(token)\n",
    "]\n",
    "\n",
    "print(complete_filtered_tokens)\n"
   ]
  },
  {
   "cell_type": "code",
   "execution_count": 87,
   "metadata": {},
   "outputs": [],
   "source": [
    "file_name = \"./docs/doc3.txt\"\n",
    "doc3 = nlp(pathlib.Path(file_name).read_text(encoding=\"utf-8\"))\n",
    "calaverita = nlp(doc3)"
   ]
  },
  {
   "cell_type": "code",
   "execution_count": 88,
   "metadata": {},
   "outputs": [
    {
     "name": "stdout",
     "output_type": "stream",
     "text": [
      "Victor Cuspinera\n",
      "Miguel Ramirez\n"
     ]
    }
   ],
   "source": [
    "matcher = Matcher(nlp.vocab)\n",
    "\n",
    "# Define the pattern outside the function\n",
    "pattern = [{\"POS\": \"PROPN\"}, {\"POS\": \"PROPN\"}]\n",
    "matcher.add(\"FULL_NAME\", [pattern])\n",
    "\n",
    "def extract_full_name(nlp_doc):\n",
    "    matches = matcher(nlp_doc)\n",
    "    for _, start, end in matches:\n",
    "        span = nlp_doc[start:end]\n",
    "        yield span.text\n",
    "\n",
    "# Use the extract_full_name function\n",
    "for full_name in extract_full_name(calaverita):\n",
    "    print(full_name)"
   ]
  },
  {
   "cell_type": "markdown",
   "metadata": {},
   "source": [
    "# Noun Chunks"
   ]
  },
  {
   "cell_type": "code",
   "execution_count": 89,
   "metadata": {},
   "outputs": [
    {
     "name": "stdout",
     "output_type": "stream",
     "text": [
      "esta manera\n",
      "el principito\n",
      "zorro\n",
      "el día\n",
      "la partida\n",
      "el zorro\n",
      "Tuya\n",
      "le\n",
      "el principito\n",
      "daño\n",
      "el zorro\n",
      "él principito\n",
      "nada\n",
      "Gano —\n",
      "el zorro\n",
      "causa del color\n",
      "trigo\n",
      "las rosas\n",
      "la tuya\n",
      "el mundo\n",
      "adiós\n",
      "yo\n",
      "un secreto\n",
      "El principito\n",
      "las rosas\n",
      "nada\n",
      "mi rosa\n",
      "Nadie\n",
      "las\n",
      "ni ustedes\n",
      "nadie\n",
      "Son como el zorro\n",
      "nada\n",
      "otros\n",
      "yo\n",
      "le\n",
      "mi amigo\n",
      "el mundo\n",
      "Las rosas\n",
      "principito\n",
      "que\n",
      "vacías\n",
      "ustedes\n",
      "Cualquiera\n",
      "que\n",
      "las\n",
      "podrá\n",
      "indudablemente\n",
      "que cualquiera\n",
      "ustedes\n",
      "ella\n",
      "más importante\n",
      "todas\n",
      "yo\n",
      "la\n",
      "la que\n",
      "el fanal\n",
      "yo\n",
      "los gusanos\n",
      "que\n",
      "mariposas\n",
      "es a ella\n",
      "yo\n",
      "y algunas veces\n",
      "mi rosa\n",
      "Y volvió\n",
      "el zorro\n",
      "Adiós\n",
      "Adiós\n",
      "el zorro\n",
      "mi secreto\n",
      "que\n",
      "el corazón\n",
      "los ojos\n",
      "los ojos\n",
      "el principito\n",
      "que\n",
      "más\n",
      "tu rosa\n",
      "que\n",
      "tú\n",
      "ella\n",
      "—Es el tiempo\n",
      "yo\n",
      "ella\n",
      "—repitió\n",
      "el principito\n",
      "Los hombres\n",
      "esta verdad\n",
      "el zorro\n",
      "tú\n",
      "que\n",
      "Tú\n",
      "tu rosa\n",
      "Yo\n",
      "mi rosa\n",
      "—repitió\n",
      "el principito\n"
     ]
    }
   ],
   "source": [
    "for chunk in complete_doc.noun_chunks:\n",
    "    print (chunk)"
   ]
  },
  {
   "cell_type": "code",
   "execution_count": 91,
   "metadata": {},
   "outputs": [],
   "source": [
    "file_name = \"./docs/doc4.txt\"\n",
    "doc4 = nlp(pathlib.Path(file_name).read_text(encoding=\"utf-8\"))\n",
    "doc4 = nlp(doc4)"
   ]
  },
  {
   "cell_type": "markdown",
   "metadata": {},
   "source": [
    "# Named-Entity Recognition"
   ]
  },
  {
   "cell_type": "code",
   "execution_count": 92,
   "metadata": {},
   "outputs": [
    {
     "name": "stdout",
     "output_type": "stream",
     "text": [
      "\n",
      "ent.text = 'Nikola Tesla'\n",
      "ent.start_char = 0\n",
      "ent.end_char = 12\n",
      "ent.label_ = 'PER'\n",
      "spacy.explain('PER') = Named person or family.\n",
      "\n",
      "ent.text = 'Smiljan'\n",
      "ent.start_char = 14\n",
      "ent.end_char = 21\n",
      "ent.label_ = 'LOC'\n",
      "spacy.explain('LOC') = Non-GPE locations, mountain ranges, bodies of water\n",
      "\n",
      "ent.text = 'Imperio austríaco'\n",
      "ent.start_char = 23\n",
      "ent.end_char = 40\n",
      "ent.label_ = 'LOC'\n",
      "spacy.explain('LOC') = Non-GPE locations, mountain ranges, bodies of water\n",
      "\n",
      "ent.text = 'Croacia'\n",
      "ent.start_char = 49\n",
      "ent.end_char = 56\n",
      "ent.label_ = 'LOC'\n",
      "spacy.explain('LOC') = Non-GPE locations, mountain ranges, bodies of water\n",
      "\n",
      "ent.text = 'York'\n",
      "ent.start_char = 84\n",
      "ent.end_char = 88\n",
      "ent.label_ = 'LOC'\n",
      "spacy.explain('LOC') = Non-GPE locations, mountain ranges, bodies of water\n",
      "\n",
      "ent.text = 'Tesla'\n",
      "ent.start_char = 311\n",
      "ent.end_char = 316\n",
      "ent.label_ = 'LOC'\n",
      "spacy.explain('LOC') = Non-GPE locations, mountain ranges, bodies of water\n",
      "\n",
      "ent.text = 'Imperio austríaco'\n",
      "ent.start_char = 344\n",
      "ent.end_char = 361\n",
      "ent.label_ = 'LOC'\n",
      "spacy.explain('LOC') = Non-GPE locations, mountain ranges, bodies of water\n",
      "\n",
      "ent.text = 'Continental'\n",
      "ent.start_char = 546\n",
      "ent.end_char = 557\n",
      "ent.label_ = 'ORG'\n",
      "spacy.explain('ORG') = Companies, agencies, institutions, etc.\n",
      "\n",
      "ent.text = 'Estados Unidos'\n",
      "ent.start_char = 653\n",
      "ent.end_char = 667\n",
      "ent.label_ = 'LOC'\n",
      "spacy.explain('LOC') = Non-GPE locations, mountain ranges, bodies of water\n",
      "\n",
      "ent.text = 'Trabajó'\n",
      "ent.start_char = 707\n",
      "ent.end_char = 714\n",
      "ent.label_ = 'PER'\n",
      "spacy.explain('PER') = Named person or family.\n",
      "\n",
      "ent.text = 'Edison Machine Works'\n",
      "ent.start_char = 742\n",
      "ent.end_char = 762\n",
      "ent.label_ = 'MISC'\n",
      "spacy.explain('MISC') = Miscellaneous entities, e.g. events, nationalities, products or works of art\n",
      "\n",
      "ent.text = 'Nueva York'\n",
      "ent.start_char = 766\n",
      "ent.end_char = 776\n",
      "ent.label_ = 'LOC'\n",
      "spacy.explain('LOC') = Non-GPE locations, mountain ranges, bodies of water\n",
      "\n",
      "ent.text = 'Con la ayuda de socios para financiar y comercializar sus ideas'\n",
      "ent.start_char = 821\n",
      "ent.end_char = 884\n",
      "ent.label_ = 'MISC'\n",
      "spacy.explain('MISC') = Miscellaneous entities, e.g. events, nationalities, products or works of art\n",
      "\n",
      "ent.text = 'Tesla'\n",
      "ent.start_char = 886\n",
      "ent.end_char = 891\n",
      "ent.label_ = 'LOC'\n",
      "spacy.explain('LOC') = Non-GPE locations, mountain ranges, bodies of water\n",
      "\n",
      "ent.text = 'Nueva York'\n",
      "ent.start_char = 925\n",
      "ent.end_char = 935\n",
      "ent.label_ = 'LOC'\n",
      "spacy.explain('LOC') = Non-GPE locations, mountain ranges, bodies of water\n",
      "\n",
      "ent.text = 'Su motor asíncrono de corriente alterna'\n",
      "ent.start_char = 990\n",
      "ent.end_char = 1029\n",
      "ent.label_ = 'MISC'\n",
      "spacy.explain('MISC') = Miscellaneous entities, e.g. events, nationalities, products or works of art\n",
      "\n",
      "ent.text = 'Westinghouse Electric'\n",
      "ent.start_char = 1106\n",
      "ent.end_char = 1127\n",
      "ent.label_ = 'ORG'\n",
      "spacy.explain('ORG') = Companies, agencies, institutions, etc.\n"
     ]
    }
   ],
   "source": [
    "for ent in doc4.ents:\n",
    "    print(\n",
    "        f\"\"\"\n",
    "{ent.text = }\n",
    "{ent.start_char = }\n",
    "{ent.end_char = }\n",
    "{ent.label_ = }\n",
    "spacy.explain('{ent.label_}') = {spacy.explain(ent.label_)}\"\"\"\n",
    ")"
   ]
  },
  {
   "cell_type": "code",
   "execution_count": 97,
   "metadata": {},
   "outputs": [
    {
     "name": "stderr",
     "output_type": "stream",
     "text": [
      "/Library/Frameworks/Python.framework/Versions/3.11/lib/python3.11/site-packages/spacy/displacy/__init__.py:106: UserWarning: [W011] It looks like you're calling displacy.serve from within a Jupyter notebook or a similar environment. This likely means you're already running a local web server, so there's no need to make displaCy start another one. Instead, you should be able to replace displacy.serve with displacy.render to show the visualization.\n",
      "  warnings.warn(Warnings.W011)\n"
     ]
    },
    {
     "data": {
      "text/html": [
       "<span class=\"tex2jax_ignore\"><!DOCTYPE html>\n",
       "<html lang=\"es\">\n",
       "    <head>\n",
       "        <title>displaCy</title>\n",
       "    </head>\n",
       "\n",
       "    <body style=\"font-size: 16px; font-family: -apple-system, BlinkMacSystemFont, 'Segoe UI', Helvetica, Arial, sans-serif, 'Apple Color Emoji', 'Segoe UI Emoji', 'Segoe UI Symbol'; padding: 4rem 2rem; direction: ltr\">\n",
       "<figure style=\"margin-bottom: 6rem\">\n",
       "<div class=\"entities\" style=\"line-height: 2.5; direction: ltr\">\n",
       "<mark class=\"entity\" style=\"background: #ddd; padding: 0.45em 0.6em; margin: 0 0.25em; line-height: 1; border-radius: 0.35em;\">\n",
       "    Nikola Tesla\n",
       "    <span style=\"font-size: 0.8em; font-weight: bold; line-height: 1; border-radius: 0.35em; vertical-align: middle; margin-left: 0.5rem\">PER</span>\n",
       "</mark>\n",
       " (\n",
       "<mark class=\"entity\" style=\"background: #ff9561; padding: 0.45em 0.6em; margin: 0 0.25em; line-height: 1; border-radius: 0.35em;\">\n",
       "    Smiljan\n",
       "    <span style=\"font-size: 0.8em; font-weight: bold; line-height: 1; border-radius: 0.35em; vertical-align: middle; margin-left: 0.5rem\">LOC</span>\n",
       "</mark>\n",
       ", \n",
       "<mark class=\"entity\" style=\"background: #ff9561; padding: 0.45em 0.6em; margin: 0 0.25em; line-height: 1; border-radius: 0.35em;\">\n",
       "    Imperio austríaco\n",
       "    <span style=\"font-size: 0.8em; font-weight: bold; line-height: 1; border-radius: 0.35em; vertical-align: middle; margin-left: 0.5rem\">LOC</span>\n",
       "</mark>\n",
       ", actual \n",
       "<mark class=\"entity\" style=\"background: #ff9561; padding: 0.45em 0.6em; margin: 0 0.25em; line-height: 1; border-radius: 0.35em;\">\n",
       "    Croacia\n",
       "    <span style=\"font-size: 0.8em; font-weight: bold; line-height: 1; border-radius: 0.35em; vertical-align: middle; margin-left: 0.5rem\">LOC</span>\n",
       "</mark>\n",
       "; 10 de julio de 1856-Nueva \n",
       "<mark class=\"entity\" style=\"background: #ff9561; padding: 0.45em 0.6em; margin: 0 0.25em; line-height: 1; border-radius: 0.35em;\">\n",
       "    York\n",
       "    <span style=\"font-size: 0.8em; font-weight: bold; line-height: 1; border-radius: 0.35em; vertical-align: middle; margin-left: 0.5rem\">LOC</span>\n",
       "</mark>\n",
       ", 7 de enero de 1943) fue un inventor, ingeniero eléctrico y mecánico serbio nacionalizado estadounidense,1​2​3​ célebre por sus contribuciones al diseño del moderno suministro de electricidad de corriente alterna (CA).4​<br><br>\n",
       "<mark class=\"entity\" style=\"background: #ff9561; padding: 0.45em 0.6em; margin: 0 0.25em; line-height: 1; border-radius: 0.35em;\">\n",
       "    Tesla\n",
       "    <span style=\"font-size: 0.8em; font-weight: bold; line-height: 1; border-radius: 0.35em; vertical-align: middle; margin-left: 0.5rem\">LOC</span>\n",
       "</mark>\n",
       ", que nació y se crio en el \n",
       "<mark class=\"entity\" style=\"background: #ff9561; padding: 0.45em 0.6em; margin: 0 0.25em; line-height: 1; border-radius: 0.35em;\">\n",
       "    Imperio austríaco\n",
       "    <span style=\"font-size: 0.8em; font-weight: bold; line-height: 1; border-radius: 0.35em; vertical-align: middle; margin-left: 0.5rem\">LOC</span>\n",
       "</mark>\n",
       ", estudió ingeniería y física en la década de 1870 sin obtener un título, aunque adquirió experiencia práctica a principios de la década de 1880 trabajando en telefonía para la empresa \n",
       "<mark class=\"entity\" style=\"background: #7aecec; padding: 0.45em 0.6em; margin: 0 0.25em; line-height: 1; border-radius: 0.35em;\">\n",
       "    Continental\n",
       "    <span style=\"font-size: 0.8em; font-weight: bold; line-height: 1; border-radius: 0.35em; vertical-align: middle; margin-left: 0.5rem\">ORG</span>\n",
       "</mark>\n",
       " Edison, que por entonces lideraba la nueva industria de la energía eléctrica. En 1884 emigró a \n",
       "<mark class=\"entity\" style=\"background: #ff9561; padding: 0.45em 0.6em; margin: 0 0.25em; line-height: 1; border-radius: 0.35em;\">\n",
       "    Estados Unidos\n",
       "    <span style=\"font-size: 0.8em; font-weight: bold; line-height: 1; border-radius: 0.35em; vertical-align: middle; margin-left: 0.5rem\">LOC</span>\n",
       "</mark>\n",
       ", donde adquirió la doble nacionalidad. \n",
       "<mark class=\"entity\" style=\"background: #ddd; padding: 0.45em 0.6em; margin: 0 0.25em; line-height: 1; border-radius: 0.35em;\">\n",
       "    Trabajó\n",
       "    <span style=\"font-size: 0.8em; font-weight: bold; line-height: 1; border-radius: 0.35em; vertical-align: middle; margin-left: 0.5rem\">PER</span>\n",
       "</mark>\n",
       " durante un corto tiempo en \n",
       "<mark class=\"entity\" style=\"background: #ddd; padding: 0.45em 0.6em; margin: 0 0.25em; line-height: 1; border-radius: 0.35em;\">\n",
       "    Edison Machine Works\n",
       "    <span style=\"font-size: 0.8em; font-weight: bold; line-height: 1; border-radius: 0.35em; vertical-align: middle; margin-left: 0.5rem\">MISC</span>\n",
       "</mark>\n",
       " en \n",
       "<mark class=\"entity\" style=\"background: #ff9561; padding: 0.45em 0.6em; margin: 0 0.25em; line-height: 1; border-radius: 0.35em;\">\n",
       "    Nueva York\n",
       "    <span style=\"font-size: 0.8em; font-weight: bold; line-height: 1; border-radius: 0.35em; vertical-align: middle; margin-left: 0.5rem\">LOC</span>\n",
       "</mark>\n",
       " antes de emprender el camino por su cuenta. \n",
       "<mark class=\"entity\" style=\"background: #ddd; padding: 0.45em 0.6em; margin: 0 0.25em; line-height: 1; border-radius: 0.35em;\">\n",
       "    Con la ayuda de socios para financiar y comercializar sus ideas\n",
       "    <span style=\"font-size: 0.8em; font-weight: bold; line-height: 1; border-radius: 0.35em; vertical-align: middle; margin-left: 0.5rem\">MISC</span>\n",
       "</mark>\n",
       ", \n",
       "<mark class=\"entity\" style=\"background: #ff9561; padding: 0.45em 0.6em; margin: 0 0.25em; line-height: 1; border-radius: 0.35em;\">\n",
       "    Tesla\n",
       "    <span style=\"font-size: 0.8em; font-weight: bold; line-height: 1; border-radius: 0.35em; vertical-align: middle; margin-left: 0.5rem\">LOC</span>\n",
       "</mark>\n",
       " fundó laboratorios y empresas en \n",
       "<mark class=\"entity\" style=\"background: #ff9561; padding: 0.45em 0.6em; margin: 0 0.25em; line-height: 1; border-radius: 0.35em;\">\n",
       "    Nueva York\n",
       "    <span style=\"font-size: 0.8em; font-weight: bold; line-height: 1; border-radius: 0.35em; vertical-align: middle; margin-left: 0.5rem\">LOC</span>\n",
       "</mark>\n",
       " para desarrollar dispositivos eléctricos y mecánicos. \n",
       "<mark class=\"entity\" style=\"background: #ddd; padding: 0.45em 0.6em; margin: 0 0.25em; line-height: 1; border-radius: 0.35em;\">\n",
       "    Su motor asíncrono de corriente alterna\n",
       "    <span style=\"font-size: 0.8em; font-weight: bold; line-height: 1; border-radius: 0.35em; vertical-align: middle; margin-left: 0.5rem\">MISC</span>\n",
       "</mark>\n",
       " (CA) y las patentes relacionadas con el sistema polifásico, licenciadas por \n",
       "<mark class=\"entity\" style=\"background: #7aecec; padding: 0.45em 0.6em; margin: 0 0.25em; line-height: 1; border-radius: 0.35em;\">\n",
       "    Westinghouse Electric\n",
       "    <span style=\"font-size: 0.8em; font-weight: bold; line-height: 1; border-radius: 0.35em; vertical-align: middle; margin-left: 0.5rem\">ORG</span>\n",
       "</mark>\n",
       " en 1888, le reportaron grandes sumas de dinero y además se convirtieron en la piedra angular del sistema polifásico finalmente comercializado por esta empresa.</div>\n",
       "</figure>\n",
       "</body>\n",
       "</html></span>"
      ],
      "text/plain": [
       "<IPython.core.display.HTML object>"
      ]
     },
     "metadata": {},
     "output_type": "display_data"
    },
    {
     "name": "stdout",
     "output_type": "stream",
     "text": [
      "\n",
      "Using the 'ent' visualizer\n",
      "Serving on http://0.0.0.0:5001 ...\n",
      "\n",
      "Shutting down server on port 5001.\n"
     ]
    }
   ],
   "source": [
    "displacy.serve(doc4, style=\"ent\", port=5001)"
   ]
  },
  {
   "cell_type": "code",
   "execution_count": null,
   "metadata": {},
   "outputs": [],
   "source": []
  }
 ],
 "metadata": {
  "kernelspec": {
   "display_name": "Python 3",
   "language": "python",
   "name": "python3"
  },
  "language_info": {
   "codemirror_mode": {
    "name": "ipython",
    "version": 3
   },
   "file_extension": ".py",
   "mimetype": "text/x-python",
   "name": "python",
   "nbconvert_exporter": "python",
   "pygments_lexer": "ipython3",
   "version": "3.11.2"
  }
 },
 "nbformat": 4,
 "nbformat_minor": 2
}
